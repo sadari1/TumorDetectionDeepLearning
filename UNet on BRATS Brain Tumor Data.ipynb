{
 "cells": [
  {
   "cell_type": "markdown",
   "metadata": {},
   "source": [
    "## Brain Tumor Segmentation with U-Nets\n",
    "\n",
    "In this research experiment, I attempt to solve the problem of brain tumor segmentation (the model creates a mask around the tumor in the scans) using a model known as a U-Net. \n",
    "\n",
    "The data can be accessed through this website: https://www.med.upenn.edu/sbia/brats2018/data.html\n",
    "An account will have to be created before any access is granted.\n",
    "\n",
    "The U-Net architecture implemented here is based on the model from this paper: https://arxiv.org/abs/1505.04597\n",
    "\n",
    "For the papers on image segmentation performed on the BRATS dataset, refer to these two paper:\n",
    "https://www.ncbi.nlm.nih.gov/pubmed/25494501\n",
    "\n",
    "https://www.ncbi.nlm.nih.gov/pubmed/28872634\n",
    "\n",
    "\n",
    "\n",
    "The model itself works, but testing has not been very successful since image pre-processing is needed in order for the model to learn where to mask the tumors. \n",
    "\n",
    "This project is still a work-in-progress."
   ]
  },
  {
   "cell_type": "code",
   "execution_count": 1,
   "metadata": {},
   "outputs": [
    {
     "name": "stderr",
     "output_type": "stream",
     "text": [
      "C:\\Users\\Shumpu\\Anaconda2\\envs\\p36\\lib\\site-packages\\h5py\\__init__.py:36: FutureWarning: Conversion of the second argument of issubdtype from `float` to `np.floating` is deprecated. In future, it will be treated as `np.float64 == np.dtype(float).type`.\n",
      "  from ._conv import register_converters as _register_converters\n",
      "Using TensorFlow backend.\n"
     ]
    }
   ],
   "source": [
    "import os\n",
    "import numpy as np\n",
    "from nibabel.testing import data_path\n",
    "import nibabel as nib\n",
    "import tensorflow as tf\n",
    "import keras\n",
    "from keras.models import *\n",
    "from keras.layers import *\n",
    "from keras.optimizers import *\n",
    "import matplotlib.pyplot as plt\n",
    "import keras.backend as K\n",
    "from keras import optimizers\n",
    "from keras.layers import Convolution1D, Dense, MaxPool1D\n",
    "from keras.layers import Input, Dense\n",
    "from keras.callbacks import ModelCheckpoint, TensorBoard\n",
    "from keras.models import Model, load_model\n",
    "from keras.layers import Input, Dense"
   ]
  },
  {
   "cell_type": "markdown",
   "metadata": {},
   "source": [
    "## Processing the data\n",
    "\n",
    "This block of code is very messy, but it finds every file that ends with \".nii.gz\" and selects the year 2013 to train on. Files that end with \"seg\" are chosen as y training data since they represent the ground truths, and files that end with \"t1ce\" are chosen as x training data since they are generally of higher quality. It filters through all the frames that are empty and only appends frames that contain parts of the brain in the scan.\n",
    "\n",
    "TODO: use open-cv to pre-process the data so that the model can correctly learn how to segment tumors. "
   ]
  },
  {
   "cell_type": "code",
   "execution_count": 2,
   "metadata": {},
   "outputs": [
    {
     "name": "stdout",
     "output_type": "stream",
     "text": [
      "(1582, 240, 155) (1582, 240, 155)\n"
     ]
    }
   ],
   "source": [
    "train_path = 'PATH_TO_DATA\\\\Train'\n",
    "val_path = 'PATH_TO_DATA\\\\Validation'\n",
    "\n",
    "\n",
    "all_paths =  [os.path.join(root, name)\n",
    "                for root, dirs, files in os.walk(train_path)\n",
    "                for name in files\n",
    "                if name.endswith((\".nii.gz\"))]\n",
    "\n",
    "x_train = []\n",
    "y_train = []\n",
    "for k in range(len(all_paths)):  \n",
    "    \n",
    "    selectedFile = all_paths[k]\n",
    "    file = (selectedFile.split('.')[0]).split('_')\n",
    "    if(file[1] == '2013'):\n",
    "\n",
    "        img = nib.load(selectedFile)\n",
    "        img = img.get_fdata()[60:170]\n",
    "\n",
    "        #print('Loaded image %d  at path %s' % (k, selectedFile))\n",
    "        if(file[-1] == 'seg' and np.max(img) != 0.0):\n",
    "            for f in img:\n",
    "                if(np.max(f) != 0.0):\n",
    "                    y_train.append(f)\n",
    "            \n",
    "            \n",
    "            \n",
    "        if (file[-1] == 't1ce'):\n",
    "            test = ''\n",
    "            for g in range(0, len(file) - 1):\n",
    "                test += '_' + file[g]\n",
    "            test += '_seg.nii.gz'\n",
    "            test = test[1:]\n",
    "            testFile = nib.load(test)\n",
    "            testFile = testFile.get_fdata()[60:170]\n",
    "            \n",
    "            if(np.max(testFile) != 0.0):\n",
    "\n",
    "                #TODO: ADD FUNCTIONALITY so that it adds 4 at a time per channel.\n",
    "                #toadd = []\n",
    "                for f in range(0, len(testFile)):\n",
    "                    if(np.max(testFile[f] != 0.0)):\n",
    "                        x_train.append(img[f])\n",
    "    else:\n",
    "        continue\n",
    "\n",
    "x_train = np.array(x_train)\n",
    "y_train = np.array(y_train)\n",
    "print(y_train.shape, x_train.shape)"
   ]
  },
  {
   "cell_type": "markdown",
   "metadata": {},
   "source": [
    "Sets every y value that is over 0 in y_train to 5.0. For research purposes, the intent of this is to hopefully make training results more accurate. X_train and y_train should not be combined, but for research purposes, this was done to see if it would result in any improvmenets in traininy accuracy. \n",
    "\n",
    "To ensure proper training, extensive preprocessing would have to be done on the data"
   ]
  },
  {
   "cell_type": "code",
   "execution_count": 3,
   "metadata": {},
   "outputs": [
    {
     "name": "stdout",
     "output_type": "stream",
     "text": [
      "(1266, 240, 155) (1266, 240, 155) (316, 240, 155) (316, 240, 155)\n"
     ]
    }
   ],
   "source": [
    "y_train[y_train > 0.0] = 5.0\n",
    "\n",
    "y_train = x_train + y_train\n",
    "\n",
    "x_test = x_train[:316]\n",
    "x_train = x_train[316:]\n",
    "\n",
    "y_test = y_train[:316]\n",
    "y_train = y_train[316:]\n",
    "\n",
    "\n",
    "\n",
    "print(x_train.shape, y_train.shape, x_test.shape, y_test.shape)\n"
   ]
  },
  {
   "cell_type": "code",
   "execution_count": 4,
   "metadata": {},
   "outputs": [
    {
     "name": "stdout",
     "output_type": "stream",
     "text": [
      "(1266, 240, 155, 1) (1266, 240, 155, 1) (316, 240, 155, 1) (316, 240, 155, 1) (240, 155, 1)\n"
     ]
    }
   ],
   "source": [
    "img_col = x_train.shape[1]\n",
    "img_row = x_train.shape[2]\n",
    "\n",
    "x_train = x_train.reshape(x_train.shape[0],  img_col , img_row, 1)\n",
    "y_train = y_train.reshape(y_train.shape[0],  img_col , img_row, 1)\n",
    "\n",
    "x_test = x_test.reshape(x_test.shape[0],  img_col , img_row, 1)\n",
    "y_test = y_test.reshape(y_test.shape[0],  img_col , img_row, 1)\n",
    "\n",
    "input_shape = (img_col , img_row, 1)\n",
    "\n",
    "print(x_train.shape, y_train.shape, x_test.shape, y_test.shape, input_shape)"
   ]
  },
  {
   "cell_type": "markdown",
   "metadata": {},
   "source": [
    "## U-Net Model\n",
    "\n",
    "\n",
    "The model implemented here is a fairly accurate recreation of the model implemented in the aforementioned paper. The basic premise behind a U-Net model is to gradually downscale the input, and then upscale it after concatenating with the corresponding output of a previous layer. What this does is generate a label mask that allows for localized segmentation based on labels. Additionally, because of the concatenation, the upscaling portion of the model is symmetric to the downscaling portion, creating a shape reminiscent of the letter \"U,\" hence the name U-Net.   \n",
    "\n",
    "Here, a modification made is zero padding to force a dimension of the input to be even, allowing for the model to work for what would otherwise be an odd-numbered input parameter. At the very end, a cropping layer is introduced to bring the shape back to the original size in the output layer. Without these two layers, the model would not work since the dimension corresponding to the odd dimension would be rounded every time it is divided, leading to a mismatch of input shape dimensions between the downscaling and upscaling portions."
   ]
  },
  {
   "cell_type": "code",
   "execution_count": 5,
   "metadata": {},
   "outputs": [],
   "source": [
    "\n",
    "input_layer = Input(shape=(input_shape ))\n",
    "\n",
    "zero = ZeroPadding2D(padding=((0, 0), (5,0)) , input_shape = input_shape)(input_layer)\n",
    "l_conv_1 = keras.layers.convolutional.Conv2D(filters=64, padding='same', kernel_size=(3,3), input_shape=input_shape,activation='relu')(zero)\n",
    "l_conv_2 =  keras.layers.convolutional.Conv2D(filters=64, padding='same',kernel_size=(3,3), strides=1,activation='relu')(l_conv_1)\n",
    "\n",
    "l_pool_1 = keras.layers.pooling.MaxPool2D(pool_size=(2,2), strides=2, padding=\"same\")(l_conv_2)\n",
    "\n",
    "l_conv_3 = keras.layers.convolutional.Conv2D(filters=128, padding='same',kernel_size=(3,3), strides=1, activation='relu')(l_pool_1)\n",
    "l_conv_4 = keras.layers.convolutional.Conv2D(filters=128, padding='same',kernel_size=(3,3), strides=1, activation='relu')(l_conv_3)\n",
    "\n",
    "l_pool_2 = keras.layers.pooling.MaxPool2D(pool_size=(2,2), strides=2, padding=\"valid\")(l_conv_4)\n",
    "\n",
    "l_conv_5 = keras.layers.convolutional.Conv2D(filters=256,padding='same',kernel_size=(3,3), strides=1, activation='relu')(l_pool_2)\n",
    "l_conv_6 = keras.layers.convolutional.Conv2D(filters=256, padding='same',kernel_size=(3,3), strides=1, activation='relu')(l_conv_5)\n",
    "\n",
    "l_pool_3 = keras.layers.pooling.MaxPool2D(pool_size=(2,2), strides=2, padding=\"valid\")(l_conv_6)\n",
    "\n",
    "l_conv_7 = keras.layers.convolutional.Conv2D(filters=512, padding='same',kernel_size=(3,3), strides=1, activation='relu')(l_pool_3)\n",
    "l_conv_8 = keras.layers.convolutional.Conv2D(filters=512,padding='same', kernel_size=(3,3), strides=1, activation='relu')(l_conv_7)\n",
    "\n",
    "l_pool_4 = keras.layers.pooling.MaxPool2D(pool_size=(2,2), strides=2, padding=\"valid\")(l_conv_8)\n",
    "\n",
    "l_conv_9 = keras.layers.convolutional.Conv2D(filters=1024, padding='same',kernel_size=(3,3), strides=1, activation='relu')(l_pool_4)\n",
    "l_conv_10 = keras.layers.convolutional.Conv2D(filters=1024,padding='same', kernel_size=(3,3), strides=1, activation='relu')(l_conv_9)\n",
    "\n",
    "\n",
    "#Going up\n",
    "r_deconv_1 = keras.layers.convolutional.Deconvolution2D(filters=512, padding='same', kernel_size=(3,3), strides=2, activation='relu')(l_conv_10)\n",
    "concat1 = concatenate([l_conv_8,r_deconv_1], axis = 3)\n",
    "\n",
    "r_conv_1 = keras.layers.convolutional.Conv2D(filters=512, padding='same',kernel_size=(3,3), strides=1, activation='relu')(concat1)\n",
    "r_conv_2 = keras.layers.convolutional.Conv2D(filters=512, padding='same',kernel_size=(3,3), strides=1, activation='relu')(r_conv_1)\n",
    "\n",
    "r_deconv_2 = keras.layers.convolutional.Deconvolution2D(filters=256, padding='same', kernel_size=(3,3), strides=2, activation='relu')(r_conv_2)\n",
    "\n",
    "concat2 = concatenate([l_conv_6,r_deconv_2], axis = 3)\n",
    "r_conv_3 = keras.layers.convolutional.Conv2D(filters=256, padding='same',kernel_size=(3,3), strides=1, activation='relu')(concat2)\n",
    "r_conv_4 = keras.layers.convolutional.Conv2D(filters=256, padding='same',kernel_size=(3,3), strides=1, activation='relu')(r_conv_3)\n",
    "\n",
    "r_deconv_3 = keras.layers.convolutional.Deconv2D(filters=128, padding='same', kernel_size=(3,3), strides=2, activation='relu')(r_conv_4)\n",
    "\n",
    "concat3 = concatenate([l_conv_4,r_deconv_3], axis = 3)\n",
    "r_conv_5 = keras.layers.convolutional.Conv2D(filters=128,padding='same', kernel_size=(3,3), strides=1, activation='relu')(concat3)\n",
    "r_conv_6 = keras.layers.convolutional.Conv2D(filters=128,padding='same', kernel_size=(3,3), strides=1, activation='relu')(r_conv_5)\n",
    "\n",
    "r_deconv_4 = keras.layers.convolutional.Deconv2D(filters=64, padding='same', kernel_size=(3,3), strides=2, activation='relu')(r_conv_6)\n",
    "\n",
    "concat4 = concatenate([l_conv_2,r_deconv_4], axis = 3)\n",
    "r_conv_7 = keras.layers.convolutional.Conv2D(filters=64, padding='same',kernel_size=(3,3), strides=1, activation='relu')(concat4)\n",
    "r_conv_8 = keras.layers.convolutional.Conv2D(filters=64,padding='same', kernel_size=(3,3), strides=1, activation='relu')(r_conv_7)\n",
    "\n",
    "cropped = keras.layers.Cropping2D(cropping=((0, 0), (5, 0)), data_format=None)(r_conv_8)\n",
    "\n",
    "r_conv_10 = keras.layers.convolutional.Conv2D(filters=1,padding='same', kernel_size=(1,1), strides=1, activation='sigmoid')(cropped)\n",
    "\n",
    "TCN = Model(inputs=input_layer, outputs=r_conv_10)"
   ]
  },
  {
   "cell_type": "code",
   "execution_count": 7,
   "metadata": {},
   "outputs": [
    {
     "data": {
      "text/plain": [
       "<matplotlib.image.AxesImage at 0x2051c751940>"
      ]
     },
     "execution_count": 7,
     "metadata": {},
     "output_type": "execute_result"
    },
    {
     "data": {
      "image/png": "[encoded data removed]",
      "text/plain": [
       "<Figure size 432x288 with 1 Axes>"
      ]
     },
     "metadata": {},
     "output_type": "display_data"
    }
   ],
   "source": [
    "plt.imshow(y_train[145].reshape(1, 240, 155)[0])"
   ]
  },
  {
   "cell_type": "code",
   "execution_count": 6,
   "metadata": {},
   "outputs": [
    {
     "name": "stdout",
     "output_type": "stream",
     "text": [
      "WARNING:tensorflow:From C:\\Users\\Shumpu\\Anaconda2\\envs\\p36\\lib\\site-packages\\keras\\backend\\tensorflow_backend.py:1290: calling reduce_mean (from tensorflow.python.ops.math_ops) with keep_dims is deprecated and will be removed in a future version.\n",
      "Instructions for updating:\n",
      "keep_dims is deprecated, use keepdims instead\n",
      "____________________________________________________________________________________________________\n",
      "Layer (type)                     Output Shape          Param #     Connected to                     \n",
      "====================================================================================================\n",
      "input_1 (InputLayer)             (None, 240, 155, 1)   0                                            \n",
      "____________________________________________________________________________________________________\n",
      "zero_padding2d_1 (ZeroPadding2D) (None, 240, 160, 1)   0           input_1[0][0]                    \n",
      "____________________________________________________________________________________________________\n",
      "conv2d_1 (Conv2D)                (None, 240, 160, 64)  640         zero_padding2d_1[0][0]           \n",
      "____________________________________________________________________________________________________\n",
      "conv2d_2 (Conv2D)                (None, 240, 160, 64)  36928       conv2d_1[0][0]                   \n",
      "____________________________________________________________________________________________________\n",
      "max_pooling2d_1 (MaxPooling2D)   (None, 120, 80, 64)   0           conv2d_2[0][0]                   \n",
      "____________________________________________________________________________________________________\n",
      "conv2d_3 (Conv2D)                (None, 120, 80, 128)  73856       max_pooling2d_1[0][0]            \n",
      "____________________________________________________________________________________________________\n",
      "conv2d_4 (Conv2D)                (None, 120, 80, 128)  147584      conv2d_3[0][0]                   \n",
      "____________________________________________________________________________________________________\n",
      "max_pooling2d_2 (MaxPooling2D)   (None, 60, 40, 128)   0           conv2d_4[0][0]                   \n",
      "____________________________________________________________________________________________________\n",
      "conv2d_5 (Conv2D)                (None, 60, 40, 256)   295168      max_pooling2d_2[0][0]            \n",
      "____________________________________________________________________________________________________\n",
      "conv2d_6 (Conv2D)                (None, 60, 40, 256)   590080      conv2d_5[0][0]                   \n",
      "____________________________________________________________________________________________________\n",
      "max_pooling2d_3 (MaxPooling2D)   (None, 30, 20, 256)   0           conv2d_6[0][0]                   \n",
      "____________________________________________________________________________________________________\n",
      "conv2d_7 (Conv2D)                (None, 30, 20, 512)   1180160     max_pooling2d_3[0][0]            \n",
      "____________________________________________________________________________________________________\n",
      "conv2d_8 (Conv2D)                (None, 30, 20, 512)   2359808     conv2d_7[0][0]                   \n",
      "____________________________________________________________________________________________________\n",
      "max_pooling2d_4 (MaxPooling2D)   (None, 15, 10, 512)   0           conv2d_8[0][0]                   \n",
      "____________________________________________________________________________________________________\n",
      "conv2d_9 (Conv2D)                (None, 15, 10, 1024)  4719616     max_pooling2d_4[0][0]            \n",
      "____________________________________________________________________________________________________\n",
      "conv2d_10 (Conv2D)               (None, 15, 10, 1024)  9438208     conv2d_9[0][0]                   \n",
      "____________________________________________________________________________________________________\n",
      "conv2d_transpose_1 (Conv2DTransp (None, 30, 20, 512)   4719104     conv2d_10[0][0]                  \n",
      "____________________________________________________________________________________________________\n",
      "concatenate_1 (Concatenate)      (None, 30, 20, 1024)  0           conv2d_8[0][0]                   \n",
      "                                                                   conv2d_transpose_1[0][0]         \n",
      "____________________________________________________________________________________________________\n",
      "conv2d_11 (Conv2D)               (None, 30, 20, 512)   4719104     concatenate_1[0][0]              \n",
      "____________________________________________________________________________________________________\n",
      "conv2d_12 (Conv2D)               (None, 30, 20, 512)   2359808     conv2d_11[0][0]                  \n",
      "____________________________________________________________________________________________________\n",
      "conv2d_transpose_2 (Conv2DTransp (None, 60, 40, 256)   1179904     conv2d_12[0][0]                  \n",
      "____________________________________________________________________________________________________\n",
      "concatenate_2 (Concatenate)      (None, 60, 40, 512)   0           conv2d_6[0][0]                   \n",
      "                                                                   conv2d_transpose_2[0][0]         \n",
      "____________________________________________________________________________________________________\n",
      "conv2d_13 (Conv2D)               (None, 60, 40, 256)   1179904     concatenate_2[0][0]              \n",
      "____________________________________________________________________________________________________\n",
      "conv2d_14 (Conv2D)               (None, 60, 40, 256)   590080      conv2d_13[0][0]                  \n",
      "____________________________________________________________________________________________________\n",
      "conv2d_transpose_3 (Conv2DTransp (None, 120, 80, 128)  295040      conv2d_14[0][0]                  \n",
      "____________________________________________________________________________________________________\n",
      "concatenate_3 (Concatenate)      (None, 120, 80, 256)  0           conv2d_4[0][0]                   \n",
      "                                                                   conv2d_transpose_3[0][0]         \n",
      "____________________________________________________________________________________________________\n",
      "conv2d_15 (Conv2D)               (None, 120, 80, 128)  295040      concatenate_3[0][0]              \n",
      "____________________________________________________________________________________________________\n",
      "conv2d_16 (Conv2D)               (None, 120, 80, 128)  147584      conv2d_15[0][0]                  \n",
      "____________________________________________________________________________________________________\n",
      "conv2d_transpose_4 (Conv2DTransp (None, 240, 160, 64)  73792       conv2d_16[0][0]                  \n",
      "____________________________________________________________________________________________________\n",
      "concatenate_4 (Concatenate)      (None, 240, 160, 128) 0           conv2d_2[0][0]                   \n",
      "                                                                   conv2d_transpose_4[0][0]         \n",
      "____________________________________________________________________________________________________\n",
      "conv2d_17 (Conv2D)               (None, 240, 160, 64)  73792       concatenate_4[0][0]              \n",
      "____________________________________________________________________________________________________\n",
      "conv2d_18 (Conv2D)               (None, 240, 160, 64)  36928       conv2d_17[0][0]                  \n",
      "____________________________________________________________________________________________________\n",
      "cropping2d_1 (Cropping2D)        (None, 240, 155, 64)  0           conv2d_18[0][0]                  \n",
      "____________________________________________________________________________________________________\n",
      "conv2d_19 (Conv2D)               (None, 240, 155, 1)   65          cropping2d_1[0][0]               \n",
      "====================================================================================================\n",
      "Total params: 34,512,193\n",
      "Trainable params: 34,512,193\n",
      "Non-trainable params: 0\n",
      "____________________________________________________________________________________________________\n"
     ]
    }
   ],
   "source": [
    "TCN.compile(optimizer = Adam(lr=1E-4), loss=keras.losses.binary_crossentropy, metrics=['accuracy'])\n",
    "\n",
    "checkpointer = ModelCheckpoint(filepath=\"model_UNetBRATS.h5\",\n",
    "                               verbose=0,\n",
    "                               save_best_only=True)\n",
    "\n",
    "TCN.summary()"
   ]
  },
  {
   "cell_type": "markdown",
   "metadata": {},
   "source": [
    "## Training\n",
    "\n",
    "The batch size has been reduced to two because of memory limitations on the GTX 1060. On a complex dataset of this size, there isn't enough memory to spare.\n",
    "\n"
   ]
  },
  {
   "cell_type": "code",
   "execution_count": 7,
   "metadata": {},
   "outputs": [
    {
     "name": "stdout",
     "output_type": "stream",
     "text": [
      "Train on 1266 samples, validate on 316 samples\n",
      "Epoch 1/15\n",
      "1266/1266 [==============================] - 140s - loss: -1713.6570 - acc: 0.5480 - val_loss: -1900.3430 - val_acc: 0.6542\n",
      "Epoch 2/15\n",
      "1266/1266 [==============================] - 126s - loss: -1721.9703 - acc: 0.6322 - val_loss: -1900.3862 - val_acc: 0.6550632 - ETA: 3s - loss: -1721.6\n",
      "Epoch 3/15\n",
      "1266/1266 [==============================] - 126s - loss: -1722.0087 - acc: 0.6340 - val_loss: -1900.4137 - val_acc: 0.6565\n",
      "Epoch 4/15\n",
      "1266/1266 [==============================] - 126s - loss: -1722.0320 - acc: 0.6353 - val_loss: -1900.4334 - val_acc: 0.6580\n",
      "Epoch 5/15\n",
      "1266/1266 [==============================] - 126s - loss: -1722.0493 - acc: 0.6365 - val_loss: -1900.4500 - val_acc: 0.6593\n",
      "Epoch 6/15\n",
      "1266/1266 [==============================] - 125s - loss: -1722.0636 - acc: 0.6374 - val_loss: -1900.4669 - val_acc: 0.6600\n",
      "Epoch 7/15\n",
      "1266/1266 [==============================] - 126s - loss: -1722.0736 - acc: 0.6382 - val_loss: -1900.4751 - val_acc: 0.6606\n",
      "Epoch 8/15\n",
      "1266/1266 [==============================] - 126s - loss: -1722.0798 - acc: 0.6387 - val_loss: -1900.4807 - val_acc: 0.6600\n",
      "Epoch 9/15\n",
      "1266/1266 [==============================] - 126s - loss: -1722.0840 - acc: 0.6391 - val_loss: -1900.4850 - val_acc: 0.6611\n",
      "Epoch 10/15\n",
      "1266/1266 [==============================] - 126s - loss: -1722.0870 - acc: 0.6394 - val_loss: -1900.4874 - val_acc: 0.6611\n",
      "Epoch 11/15\n",
      "1266/1266 [==============================] - 126s - loss: -1722.0887 - acc: 0.6396 - val_loss: -1900.4898 - val_acc: 0.6612\n",
      "Epoch 12/15\n",
      "1266/1266 [==============================] - 126s - loss: -1722.0901 - acc: 0.6398 - val_loss: -1900.4908 - val_acc: 0.6615\n",
      "Epoch 13/15\n",
      "1266/1266 [==============================] - 125s - loss: -1722.0901 - acc: 0.6398 - val_loss: -1900.4912 - val_acc: 0.6615\n",
      "Epoch 14/15\n",
      "1266/1266 [==============================] - 127s - loss: -1722.0916 - acc: 0.6399 - val_loss: -1900.4912 - val_acc: 0.6610\n",
      "Epoch 15/15\n",
      "1266/1266 [==============================] - 125s - loss: -1722.0924 - acc: 0.6400 - val_loss: -1900.4886 - val_acc: 0.6618\n"
     ]
    },
    {
     "data": {
      "text/plain": [
       "<keras.callbacks.History at 0x260a1033eb8>"
      ]
     },
     "execution_count": 7,
     "metadata": {},
     "output_type": "execute_result"
    }
   ],
   "source": [
    "batch_size = 2\n",
    "epochs=15\n",
    "\n",
    "TCN.fit(x_train, y_train,\n",
    "          batch_size=batch_size,\n",
    "          epochs=epochs,\n",
    "          verbose=1,\n",
    "          validation_data=(x_test, y_test),\n",
    "          callbacks = [checkpointer])"
   ]
  },
  {
   "cell_type": "code",
   "execution_count": 8,
   "metadata": {},
   "outputs": [
    {
     "name": "stdout",
     "output_type": "stream",
     "text": [
      "Test loss: -1483.4010009765625\n",
      "Test accuracy: 0.7082876563072205\n"
     ]
    }
   ],
   "source": [
    "score = TCN.evaluate(x_test[:10], y_test[:10], verbose=0)\n",
    "print('Test loss:', score[0])\n",
    "print('Test accuracy:', score[1])"
   ]
  },
  {
   "cell_type": "markdown",
   "metadata": {},
   "source": [
    "## Evaluations\n",
    "\n",
    "I have redacted the exact file names just in case, but left the scan type to leave a hint of what files to choose from.\n"
   ]
  },
  {
   "cell_type": "code",
   "execution_count": 16,
   "metadata": {},
   "outputs": [],
   "source": [
    "model = load_model('model_UNetBRATS.h5')\n",
    "    \n",
    "img = nib.load('PATH_TO_DATA_FOLDER\\\\BRATS 2018\\Data\\\\Train\\\\[REDACTED]t1ce.nii.gz')\n",
    "img = img.get_fdata()\n",
    "\n",
    "test_data = []\n",
    "test_data.append(img)\n",
    "test_data = np.array(test_data)"
   ]
  },
  {
   "cell_type": "code",
   "execution_count": 15,
   "metadata": {},
   "outputs": [
    {
     "data": {
      "text/plain": [
       "<matplotlib.image.AxesImage at 0x2608115e780>"
      ]
     },
     "execution_count": 15,
     "metadata": {},
     "output_type": "execute_result"
    },
    {
     "data": {
      "image/png": "[encoded data removed]",
      "text/plain": [
       "<Figure size 432x288 with 1 Axes>"
      ]
     },
     "metadata": {},
     "output_type": "display_data"
    }
   ],
   "source": [
    "plt.imshow(img[160])"
   ]
  },
  {
   "cell_type": "code",
   "execution_count": 11,
   "metadata": {},
   "outputs": [],
   "source": [
    "test_data = test_data.reshape(240, 240, 155, 1)\n",
    "predictions = model.predict(test_data[160:162])\n",
    "\n"
   ]
  },
  {
   "cell_type": "code",
   "execution_count": 12,
   "metadata": {},
   "outputs": [
    {
     "data": {
      "text/plain": [
       "<matplotlib.image.AxesImage at 0x260810669e8>"
      ]
     },
     "execution_count": 12,
     "metadata": {},
     "output_type": "execute_result"
    },
    {
     "data": {
      "image/png": "[encoded data removed]",
      "text/plain": [
       "<Figure size 432x288 with 1 Axes>"
      ]
     },
     "metadata": {},
     "output_type": "display_data"
    }
   ],
   "source": [
    "\n",
    "pred = predictions[1].reshape(1, 240, 155)\n",
    "plt.imshow(pred[0])\n",
    "\n"
   ]
  },
  {
   "cell_type": "markdown",
   "metadata": {},
   "source": [
    "Judging from the predictions, it is clear that extensive data preprocessing is required in order for the model to learn exactly what to look for. \n",
    "\n",
    "The cells below consist of visualizations of both the t1ce scan and its ground truth."
   ]
  },
  {
   "cell_type": "code",
   "execution_count": 19,
   "metadata": {},
   "outputs": [],
   "source": [
    "\n",
    "test = nib.load('PATH_TO_DATA_FOLDER\\\\BRATS 2018\\Data\\\\Train\\\\[REDACTED]seg.nii.gz')\n",
    "test = test.get_fdata()\n"
   ]
  },
  {
   "cell_type": "code",
   "execution_count": 27,
   "metadata": {},
   "outputs": [
    {
     "data": {
      "text/plain": [
       "<matplotlib.image.AxesImage at 0x1af432bf940>"
      ]
     },
     "execution_count": 27,
     "metadata": {},
     "output_type": "execute_result"
    },
    {
     "data": {
      "image/png": "[encoded data removed]",
      "text/plain": [
       "<Figure size 432x288 with 1 Axes>"
      ]
     },
     "metadata": {},
     "output_type": "display_data"
    }
   ],
   "source": [
    "img = nib.load('PATH_TO_DATA_FOLDER\\\\BRATS 2018\\Data\\\\Train\\\\[REDACTED]t1ce.nii.gz')\n",
    "\n",
    "img = img.get_fdata()[150:160]\n",
    "\n",
    "plt.imshow(img[0])"
   ]
  },
  {
   "cell_type": "code",
   "execution_count": 340,
   "metadata": {},
   "outputs": [
    {
     "data": {
      "text/plain": [
       "<matplotlib.image.AxesImage at 0x19561ef0358>"
      ]
     },
     "execution_count": 340,
     "metadata": {},
     "output_type": "execute_result"
    },
    {
     "data": {
      "image/png": "[encoded data removed]",
      "text/plain": [
       "<Figure size 432x288 with 1 Axes>"
      ]
     },
     "metadata": {},
     "output_type": "display_data"
    }
   ],
   "source": [
    "test = nib.load('PATH_TO_DATA_FOLDER\\\\BRATS 2018\\Data\\\\Train\\\\[REDACTED]seg.nii.gz')\n",
    "test = test.get_fdata()[150:160]\n",
    "plt.imshow(test[0])"
   ]
  },
  {
   "cell_type": "code",
   "execution_count": 1,
   "metadata": {},
   "outputs": [
    {
     "name": "stderr",
     "output_type": "stream",
     "text": [
      "C:\\Users\\Shumpu\\Anaconda2\\envs\\p36\\lib\\site-packages\\h5py\\__init__.py:36: FutureWarning: Conversion of the second argument of issubdtype from `float` to `np.floating` is deprecated. In future, it will be treated as `np.float64 == np.dtype(float).type`.\n",
      "  from ._conv import register_converters as _register_converters\n",
      "Using TensorFlow backend.\n"
     ]
    }
   ],
   "source": [
    "import keras.backend as K\n",
    "\n",
    "K.clear_session()"
   ]
  }
 ],
 "metadata": {
  "kernelspec": {
   "display_name": "python36",
   "language": "python",
   "name": "python36"
  },
  "language_info": {
   "codemirror_mode": {
    "name": "ipython",
    "version": 3
   },
   "file_extension": ".py",
   "mimetype": "text/x-python",
   "name": "python",
   "nbconvert_exporter": "python",
   "pygments_lexer": "ipython3",
   "version": "3.6.5"
  }
 },
 "nbformat": 4,
 "nbformat_minor": 2
}
